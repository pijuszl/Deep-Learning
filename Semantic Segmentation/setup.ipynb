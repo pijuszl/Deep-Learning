{
  "cells": [
    {
      "cell_type": "markdown",
      "metadata": {},
      "source": [
        "## Nuotraukų atsisiuntimas iš COCO duomenų bazės"
      ]
    },
    {
      "cell_type": "code",
      "execution_count": 1,
      "metadata": {},
      "outputs": [],
      "source": [
        "from pycocotools.coco import COCO\n",
        "import os\n",
        "import requests\n",
        "from PIL import Image\n",
        "import numpy as np\n",
        "from collections import defaultdict"
      ]
    },
    {
      "cell_type": "markdown",
      "metadata": {},
      "source": [
        "### Pagalbinės funkcijos, kurios sukuria kaukes iš duomenų esančių 'annotations' aplanke"
      ]
    },
    {
      "cell_type": "markdown",
      "metadata": {},
      "source": [
        "Kaukės yra nuspalvinamos 3 spalvomis: lėktuvai raudona, automobiliai žalia ir žmonės mėlyna spalvomis."
      ]
    },
    {
      "cell_type": "code",
      "execution_count": 2,
      "metadata": {},
      "outputs": [],
      "source": [
        "category_colors = {\n",
        "    'airplane': (255, 0, 0),  # Red\n",
        "    'car': (0, 255, 0),       # Green\n",
        "    'person': (0, 0, 255)     # Blue\n",
        "}\n",
        "\n",
        "def download_image(img_url, path):\n",
        "    try:\n",
        "        response = requests.get(img_url, stream=True)\n",
        "        if response.status_code == 200:\n",
        "            with open(path, 'wb') as file:\n",
        "                file.write(response.content)\n",
        "        else:\n",
        "            print(f\"Failed to download image {img_url}\")\n",
        "    except requests.RequestException as e:\n",
        "        print(f\"Error downloading {img_url}: {str(e)}\")\n",
        "\n",
        "def generate_mask(coco, img_id, img_details, mask_path, category_ids):\n",
        "    ann_ids = coco.getAnnIds(imgIds=img_id, catIds=category_ids, iscrowd=None)\n",
        "    anns = coco.loadAnns(ann_ids)\n",
        "    mask = np.zeros((img_details['height'], img_details['width'], 3), dtype=np.uint8)\n",
        "\n",
        "    # Sort annotations by area, larger first to allow smaller items not to be hidden entirely\n",
        "    for ann in sorted(anns, key=lambda x: x['area'], reverse=True):\n",
        "        category_name = coco.loadCats(ann['category_id'])[0]['name']\n",
        "        binary_mask = coco.annToMask(ann)\n",
        "        if category_name in category_colors:\n",
        "            category_color = np.array(category_colors[category_name], dtype=np.uint8)\n",
        "            color_mask = np.stack([binary_mask] * 3, axis=-1) * category_color\n",
        "            # Apply color only where no color has been applied yet\n",
        "            mask = np.where(mask.any(axis=2, keepdims=True), mask, color_mask)\n",
        "\n",
        "    Image.fromarray(mask).save(mask_path)\n",
        "\n",
        "\n",
        "def setup_directories(base_dir, sub_dirs):\n",
        "    for sub_dir in sub_dirs:\n",
        "        os.makedirs(os.path.join(base_dir, sub_dir, 'images'), exist_ok=True)\n",
        "        os.makedirs(os.path.join(base_dir, sub_dir, 'masks'), exist_ok=True)"
      ]
    },
    {
      "cell_type": "code",
      "execution_count": 3,
      "metadata": {},
      "outputs": [],
      "source": [
        "classes = ['airplane', 'car', 'person']\n",
        "max_samples_training_test = 1700 # per class\n",
        "max_samples_validation = 300 # per class\n",
        "categories = {'airplane': (255, 0, 0), 'car': (0, 255, 0), 'person': (0, 0, 255)}\n",
        "dataset_dir = 'dataset'\n",
        "annotations_dir = 'dataset/annotations'"
      ]
    },
    {
      "cell_type": "markdown",
      "metadata": {},
      "source": [
        "### Pagrindinės funkcijos, atsiunčiančios nuotraukas iš COCO duomenų bazės"
      ]
    },
    {
      "cell_type": "code",
      "execution_count": 4,
      "metadata": {},
      "outputs": [
        {
          "name": "stdout",
          "output_type": "stream",
          "text": [
            "loading annotations into memory...\n",
            "Done (t=40.65s)\n",
            "creating index...\n",
            "index created!\n",
            "Finished processing train. Counts: {'person': 1700, 'car': 1700, 'airplane': 1700}\n",
            "loading annotations into memory...\n",
            "Done (t=36.77s)\n",
            "creating index...\n",
            "index created!\n",
            "Finished processing val. Counts: {'person': 300, 'car': 300, 'airplane': 97}\n",
            "Finished processing all images.\n"
          ]
        }
      ],
      "source": [
        "setup_directories(dataset_dir, ['train', 'val'])\n",
        "train_sample_count = defaultdict(int)\n",
        "val_sample_count = defaultdict(int)\n",
        "\n",
        "def process_images_and_masks(coco, dataset_dir, phase, sample_count, max_samples):\n",
        "    category_ids = coco.getCatIds(catNms=categories.keys())\n",
        "    img_ids = coco.getImgIds()\n",
        "\n",
        "    for img_id in img_ids:\n",
        "        img_info = coco.loadImgs(img_id)[0]\n",
        "        annotations = coco.loadAnns(coco.getAnnIds(imgIds=[img_id]))\n",
        "        categories_in_image = {ann['category_id'] for ann in annotations if ann['category_id'] in category_ids}\n",
        "\n",
        "        if not categories_in_image:\n",
        "            continue\n",
        "\n",
        "        img_path = os.path.join(dataset_dir, phase, 'images', img_info['file_name'])\n",
        "        mask_path = os.path.join(dataset_dir, phase, 'masks', img_info['file_name'].replace('.jpg', '_mask.png'))\n",
        "\n",
        "        if os.path.exists(img_path) and os.path.exists(mask_path):\n",
        "            continue\n",
        "\n",
        "        relevant_categories = [cat for cat in categories_in_image if sample_count[coco.loadCats(cat)[0]['name']] < max_samples]\n",
        "\n",
        "        if not relevant_categories:\n",
        "            continue\n",
        "\n",
        "        download_image(img_info['coco_url'], img_path)\n",
        "        generate_mask(coco, img_id, img_info, mask_path, relevant_categories)\n",
        "\n",
        "        for cat_id in relevant_categories:\n",
        "            category_name = coco.loadCats(cat_id)[0]['name']\n",
        "            sample_count[category_name] += 1\n",
        "\n",
        "        if all(count >= max_samples for count in sample_count.values()):\n",
        "            break\n",
        "\n",
        "for phase in ['train', 'val']:\n",
        "    coco_annotation = f\"{annotations_dir}/instances_{phase}2017.json\"\n",
        "    coco = COCO(coco_annotation)\n",
        "    sample_count = train_sample_count if phase == 'train' else val_sample_count\n",
        "    process_images_and_masks(coco, dataset_dir, phase, sample_count, max_samples_training_test if phase == 'train' else max_samples_validation)\n",
        "\n",
        "    print(f\"Finished processing {phase}. Counts: {dict(sample_count)}\")\n",
        "print(\"Finished processing all images.\")"
      ]
    }
  ],
  "metadata": {
    "colab": {
      "provenance": []
    },
    "kernelspec": {
      "display_name": "Python 3",
      "name": "python3"
    },
    "language_info": {
      "codemirror_mode": {
        "name": "ipython",
        "version": 3
      },
      "file_extension": ".py",
      "mimetype": "text/x-python",
      "name": "python",
      "nbconvert_exporter": "python",
      "pygments_lexer": "ipython3",
      "version": "3.10.14"
    }
  },
  "nbformat": 4,
  "nbformat_minor": 0
}
