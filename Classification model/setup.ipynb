{
  "cells": [
    {
      "cell_type": "markdown",
      "metadata": {},
      "source": [
        "## Nuotraukų atsisiuntimas"
      ]
    },
    {
      "cell_type": "code",
      "execution_count": null,
      "metadata": {
        "colab": {
          "base_uri": "https://localhost:8080/"
        },
        "id": "vuQf_IvX_HOJ",
        "outputId": "b554ac6e-5a3e-482b-8f0c-c0fdcfb8e901"
      },
      "outputs": [],
      "source": [
        "!pip install openimages"
      ]
    },
    {
      "cell_type": "code",
      "execution_count": 28,
      "metadata": {
        "id": "1kx6PzHw_Dgw"
      },
      "outputs": [],
      "source": [
        "import os\n",
        "from openimages.download import download_dataset\n",
        "import shutil\n",
        "from sklearn.model_selection import train_test_split"
      ]
    },
    {
      "cell_type": "code",
      "execution_count": 29,
      "metadata": {
        "id": "MDnxtW380E_0"
      },
      "outputs": [],
      "source": [
        "data_dir = \"data\"\n",
        "classes = [\"Goldfish\", \"Jellyfish\", \"Starfish\"]"
      ]
    },
    {
      "cell_type": "code",
      "execution_count": 30,
      "metadata": {
        "colab": {
          "base_uri": "https://localhost:8080/"
        },
        "id": "ZemAVSpvrOG9",
        "outputId": "6b61018a-072a-460e-f2a7-b3425bd2da7c"
      },
      "outputs": [
        {
          "name": "stdout",
          "output_type": "stream",
          "text": [
            "Downloading is starting...\n"
          ]
        },
        {
          "name": "stderr",
          "output_type": "stream",
          "text": [
            "2024-03-18  19:30:50 INFO Downloading 339 train images for class 'goldfish'\n",
            "100%|██████████| 339/339 [01:17<00:00,  4.38it/s]\n",
            "2024-03-18  19:32:09 INFO Downloading 379 train images for class 'jellyfish'\n",
            "100%|██████████| 379/379 [00:52<00:00,  7.26it/s]\n",
            "2024-03-18  19:33:02 INFO Downloading 220 train images for class 'starfish'\n",
            "100%|██████████| 220/220 [00:36<00:00,  5.98it/s]\n",
            "2024-03-18  19:33:44 INFO Downloading 11 validation images for class 'goldfish'\n",
            "100%|██████████| 11/11 [00:04<00:00,  2.40it/s]\n",
            "2024-03-18  19:33:49 INFO Downloading 23 validation images for class 'jellyfish'\n",
            "100%|██████████| 23/23 [00:05<00:00,  4.10it/s]\n",
            "2024-03-18  19:33:54 INFO Downloading 14 validation images for class 'starfish'\n",
            "100%|██████████| 14/14 [00:05<00:00,  2.49it/s]\n",
            "2024-03-18  19:34:06 INFO Downloading 29 test images for class 'goldfish'\n",
            "100%|██████████| 29/29 [00:04<00:00,  6.23it/s]\n",
            "2024-03-18  19:34:11 INFO Downloading 54 test images for class 'jellyfish'\n",
            "100%|██████████| 54/54 [00:07<00:00,  6.92it/s]\n",
            "2024-03-18  19:34:19 INFO Downloading 48 test images for class 'starfish'\n",
            "100%|██████████| 48/48 [00:15<00:00,  3.15it/s]\n"
          ]
        },
        {
          "data": {
            "text/plain": [
              "{'goldfish': {'images_dir': 'data\\\\goldfish\\\\images'},\n",
              " 'jellyfish': {'images_dir': 'data\\\\jellyfish\\\\images'},\n",
              " 'starfish': {'images_dir': 'data\\\\starfish\\\\images'}}"
            ]
          },
          "execution_count": 30,
          "metadata": {},
          "output_type": "execute_result"
        }
      ],
      "source": [
        "if not os.path.exists(data_dir):\n",
        "    os.makedirs(data_dir)\n",
        "\n",
        "print(\"Downloading is starting...\")\n",
        "download_dataset(data_dir, classes, limit=1500)"
      ]
    },
    {
      "cell_type": "markdown",
      "metadata": {},
      "source": [
        "## Nuotraukų padalinimas į apmokymo, validacijos ir testavimo dalis."
      ]
    },
    {
      "cell_type": "code",
      "execution_count": 34,
      "metadata": {
        "id": "c6-P33MyrQQs"
      },
      "outputs": [],
      "source": [
        "train_dir = 'train'\n",
        "val_dir = 'validation'\n",
        "test_dir = 'test'\n",
        "\n",
        "for dir in [train_dir, val_dir, test_dir]:\n",
        "    if not os.path.exists(dir):\n",
        "        os.makedirs(dir)\n",
        "\n",
        "for class_name in classes:\n",
        "    class_name = class_name.lower()\n",
        "\n",
        "    for dir in [train_dir, val_dir, test_dir]:\n",
        "        class_dir = os.path.join(dir, class_name)\n",
        "        if not os.path.exists(class_dir):\n",
        "            os.makedirs(class_dir)\n",
        "\n",
        "    data_class_dir = os.path.join(data_dir, class_name)\n",
        "    data_class_dir = os.path.join(data_class_dir, \"images\")\n",
        "\n",
        "    filenames = os.listdir(data_class_dir)\n",
        "    filenames = [f for f in filenames if os.path.isfile(os.path.join(data_class_dir, f))]\n",
        "\n",
        "    train_files, test_files = train_test_split(filenames, test_size=0.3, random_state=42)\n",
        "    val_files, test_files = train_test_split(test_files, test_size=0.5, random_state=42)\n",
        "\n",
        "    def copy_files(files, src_dir, dest_dir):\n",
        "        for f in files:\n",
        "            shutil.copy(os.path.join(src_dir, f), os.path.join(dest_dir, f))\n",
        "\n",
        "    copy_files(train_files, data_class_dir, os.path.join(train_dir, class_name))\n",
        "    copy_files(val_files, data_class_dir, os.path.join(val_dir, class_name))\n",
        "    copy_files(test_files, data_class_dir, os.path.join(test_dir, class_name))"
      ]
    },
    {
      "cell_type": "markdown",
      "metadata": {},
      "source": [
        "Nenaudojant `data` aplanko galima jį ištrinti ir tik palikti reikalingus aplankus."
      ]
    },
    {
      "cell_type": "code",
      "execution_count": 17,
      "metadata": {
        "id": "ggBT2CQ7rZbS"
      },
      "outputs": [],
      "source": [
        "if os.path.exists(data_dir):\n",
        "    shutil.rmtree(data_dir)"
      ]
    },
    {
      "cell_type": "markdown",
      "metadata": {},
      "source": [
        "## Apskaičiuojamas nuotraukų skaičius pasirinktame aplanke"
      ]
    },
    {
      "cell_type": "code",
      "execution_count": 33,
      "metadata": {
        "colab": {
          "base_uri": "https://localhost:8080/"
        },
        "id": "WdlnP4lWyy61",
        "outputId": "d5409369-3085-4a05-a8ea-1aee99de6422"
      },
      "outputs": [
        {
          "name": "stdout",
          "output_type": "stream",
          "text": [
            "282 photos in the directory.\n"
          ]
        }
      ],
      "source": [
        "root = 'data/starfish'\n",
        "\n",
        "photo_count = 0\n",
        "\n",
        "for subdir, dirs, files in os.walk(root):\n",
        "    for file in files:\n",
        "        if file.lower().endswith('.jpg'):\n",
        "            photo_count += 1\n",
        "\n",
        "print(f'{photo_count} photos in the directory.')"
      ]
    }
  ],
  "metadata": {
    "colab": {
      "provenance": []
    },
    "kernelspec": {
      "display_name": "Python 3",
      "name": "python3"
    },
    "language_info": {
      "codemirror_mode": {
        "name": "ipython",
        "version": 3
      },
      "file_extension": ".py",
      "mimetype": "text/x-python",
      "name": "python",
      "nbconvert_exporter": "python",
      "pygments_lexer": "ipython3",
      "version": "3.12.1"
    }
  },
  "nbformat": 4,
  "nbformat_minor": 0
}
